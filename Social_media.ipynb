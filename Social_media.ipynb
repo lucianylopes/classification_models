{
 "cells": [
  {
   "cell_type": "markdown",
   "id": "f9c43d77",
   "metadata": {},
   "source": [
    "# Social media ads data"
   ]
  },
  {
   "cell_type": "markdown",
   "id": "09eaaac9",
   "metadata": {},
   "source": [
    "The dataset here analized refere to people who saw an specific ad on social media. The features are:\n",
    "- User ID\n",
    "- Gender\n",
    "- Age\n",
    "- EstimatedSalary (Salary per year)\n",
    "- Purchased (If the person finished the purchase, (1: Yes, 0: No))\n",
    "\n",
    "We want to predict the Purchased feature."
   ]
  },
  {
   "cell_type": "code",
   "execution_count": 1,
   "id": "796973eb",
   "metadata": {},
   "outputs": [],
   "source": [
    "import pandas as pd\n",
    "import matplotlib.pyplot as plt\n",
    "import seaborn as sns\n",
    "from sklearn.preprocessing import MinMaxScaler\n",
    "from sklearn.model_selection import train_test_split\n",
    "#Models\n",
    "from sklearn.linear_model import LinearRegression\n",
    "from sklearn.neighbors import KNeighborsClassifier\n",
    "from sklearn.tree import DecisionTreeClassifier\n",
    "from sklearn.linear_model import LogisticRegression\n",
    "from sklearn.ensemble import RandomForestClassifier\n",
    "#Metrics\n",
    "from sklearn.metrics import mean_squared_error, mean_absolute_error, r2_score\n",
    "#Validation\n",
    "from sklearn.model_selection import cross_validate, RepeatedStratifiedKFold"
   ]
  },
  {
   "cell_type": "code",
   "execution_count": 42,
   "id": "16c78bce",
   "metadata": {},
   "outputs": [],
   "source": [
    "df= pd.read_csv('https://raw.githubusercontent.com/ricardorocha86/Dados-Redes-Sociais/master/Social_Network_Ads.csv')"
   ]
  },
  {
   "cell_type": "code",
   "execution_count": 43,
   "id": "56e7993c",
   "metadata": {},
   "outputs": [
    {
     "data": {
      "text/html": [
       "<div>\n",
       "<style scoped>\n",
       "    .dataframe tbody tr th:only-of-type {\n",
       "        vertical-align: middle;\n",
       "    }\n",
       "\n",
       "    .dataframe tbody tr th {\n",
       "        vertical-align: top;\n",
       "    }\n",
       "\n",
       "    .dataframe thead th {\n",
       "        text-align: right;\n",
       "    }\n",
       "</style>\n",
       "<table border=\"1\" class=\"dataframe\">\n",
       "  <thead>\n",
       "    <tr style=\"text-align: right;\">\n",
       "      <th></th>\n",
       "      <th>User ID</th>\n",
       "      <th>Gender</th>\n",
       "      <th>Age</th>\n",
       "      <th>EstimatedSalary</th>\n",
       "      <th>Purchased</th>\n",
       "    </tr>\n",
       "  </thead>\n",
       "  <tbody>\n",
       "    <tr>\n",
       "      <th>0</th>\n",
       "      <td>15624510</td>\n",
       "      <td>Male</td>\n",
       "      <td>19.0</td>\n",
       "      <td>19000.0</td>\n",
       "      <td>0</td>\n",
       "    </tr>\n",
       "    <tr>\n",
       "      <th>1</th>\n",
       "      <td>15810944</td>\n",
       "      <td>Male</td>\n",
       "      <td>35.0</td>\n",
       "      <td>20000.0</td>\n",
       "      <td>0</td>\n",
       "    </tr>\n",
       "    <tr>\n",
       "      <th>2</th>\n",
       "      <td>15668575</td>\n",
       "      <td>Female</td>\n",
       "      <td>26.0</td>\n",
       "      <td>43000.0</td>\n",
       "      <td>0</td>\n",
       "    </tr>\n",
       "    <tr>\n",
       "      <th>3</th>\n",
       "      <td>15603246</td>\n",
       "      <td>Female</td>\n",
       "      <td>27.0</td>\n",
       "      <td>57000.0</td>\n",
       "      <td>0</td>\n",
       "    </tr>\n",
       "    <tr>\n",
       "      <th>4</th>\n",
       "      <td>15804002</td>\n",
       "      <td>Male</td>\n",
       "      <td>19.0</td>\n",
       "      <td>76000.0</td>\n",
       "      <td>0</td>\n",
       "    </tr>\n",
       "  </tbody>\n",
       "</table>\n",
       "</div>"
      ],
      "text/plain": [
       "    User ID  Gender   Age  EstimatedSalary  Purchased\n",
       "0  15624510    Male  19.0          19000.0          0\n",
       "1  15810944    Male  35.0          20000.0          0\n",
       "2  15668575  Female  26.0          43000.0          0\n",
       "3  15603246  Female  27.0          57000.0          0\n",
       "4  15804002    Male  19.0          76000.0          0"
      ]
     },
     "execution_count": 43,
     "metadata": {},
     "output_type": "execute_result"
    }
   ],
   "source": [
    "df.head()"
   ]
  },
  {
   "cell_type": "markdown",
   "id": "7e36aae2",
   "metadata": {},
   "source": [
    "**Possible changes**\n",
    "- Put salary to montly\n",
    "- See what gender buys more\n",
    "- See what ages buy more\n",
    "- Separate ages by gen ?\n",
    "- Create salary categories ?"
   ]
  },
  {
   "cell_type": "markdown",
   "id": "36581944",
   "metadata": {},
   "source": [
    "**DESCRIPTIVE ANALISYS**"
   ]
  },
  {
   "cell_type": "code",
   "execution_count": 44,
   "id": "b57dc930",
   "metadata": {},
   "outputs": [],
   "source": [
    "# Delete unnecessary info\n",
    "df.drop(columns = 'User ID', inplace= True)"
   ]
  },
  {
   "cell_type": "code",
   "execution_count": 45,
   "id": "dae2439e",
   "metadata": {},
   "outputs": [],
   "source": [
    "#Transforming to monthly salary\n",
    "df['EstimatedSalary']= (df['EstimatedSalary']/12).round(2) "
   ]
  },
  {
   "cell_type": "code",
   "execution_count": 46,
   "id": "7849acc3",
   "metadata": {},
   "outputs": [
    {
     "data": {
      "text/plain": [
       "Gender             0\n",
       "Age                0\n",
       "EstimatedSalary    0\n",
       "Purchased          0\n",
       "dtype: int64"
      ]
     },
     "execution_count": 46,
     "metadata": {},
     "output_type": "execute_result"
    }
   ],
   "source": [
    "df.isnull().sum()\n",
    "# No missing data (YAY)"
   ]
  },
  {
   "cell_type": "code",
   "execution_count": 47,
   "id": "d2284d63",
   "metadata": {},
   "outputs": [
    {
     "data": {
      "text/html": [
       "<div>\n",
       "<style scoped>\n",
       "    .dataframe tbody tr th:only-of-type {\n",
       "        vertical-align: middle;\n",
       "    }\n",
       "\n",
       "    .dataframe tbody tr th {\n",
       "        vertical-align: top;\n",
       "    }\n",
       "\n",
       "    .dataframe thead th {\n",
       "        text-align: right;\n",
       "    }\n",
       "</style>\n",
       "<table border=\"1\" class=\"dataframe\">\n",
       "  <thead>\n",
       "    <tr style=\"text-align: right;\">\n",
       "      <th></th>\n",
       "      <th>Age</th>\n",
       "      <th>EstimatedSalary</th>\n",
       "      <th>Purchased</th>\n",
       "    </tr>\n",
       "  </thead>\n",
       "  <tbody>\n",
       "    <tr>\n",
       "      <th>count</th>\n",
       "      <td>400.000000</td>\n",
       "      <td>400.000000</td>\n",
       "      <td>400.000000</td>\n",
       "    </tr>\n",
       "    <tr>\n",
       "      <th>mean</th>\n",
       "      <td>37.655000</td>\n",
       "      <td>5811.875275</td>\n",
       "      <td>0.357500</td>\n",
       "    </tr>\n",
       "    <tr>\n",
       "      <th>std</th>\n",
       "      <td>10.482877</td>\n",
       "      <td>2841.413521</td>\n",
       "      <td>0.479864</td>\n",
       "    </tr>\n",
       "    <tr>\n",
       "      <th>min</th>\n",
       "      <td>18.000000</td>\n",
       "      <td>1250.000000</td>\n",
       "      <td>0.000000</td>\n",
       "    </tr>\n",
       "    <tr>\n",
       "      <th>25%</th>\n",
       "      <td>29.750000</td>\n",
       "      <td>3583.330000</td>\n",
       "      <td>0.000000</td>\n",
       "    </tr>\n",
       "    <tr>\n",
       "      <th>50%</th>\n",
       "      <td>37.000000</td>\n",
       "      <td>5833.330000</td>\n",
       "      <td>0.000000</td>\n",
       "    </tr>\n",
       "    <tr>\n",
       "      <th>75%</th>\n",
       "      <td>46.000000</td>\n",
       "      <td>7333.330000</td>\n",
       "      <td>1.000000</td>\n",
       "    </tr>\n",
       "    <tr>\n",
       "      <th>max</th>\n",
       "      <td>60.000000</td>\n",
       "      <td>12500.000000</td>\n",
       "      <td>1.000000</td>\n",
       "    </tr>\n",
       "  </tbody>\n",
       "</table>\n",
       "</div>"
      ],
      "text/plain": [
       "              Age  EstimatedSalary   Purchased\n",
       "count  400.000000       400.000000  400.000000\n",
       "mean    37.655000      5811.875275    0.357500\n",
       "std     10.482877      2841.413521    0.479864\n",
       "min     18.000000      1250.000000    0.000000\n",
       "25%     29.750000      3583.330000    0.000000\n",
       "50%     37.000000      5833.330000    0.000000\n",
       "75%     46.000000      7333.330000    1.000000\n",
       "max     60.000000     12500.000000    1.000000"
      ]
     },
     "execution_count": 47,
     "metadata": {},
     "output_type": "execute_result"
    }
   ],
   "source": [
    "df.describe()"
   ]
  },
  {
   "cell_type": "markdown",
   "id": "9302bfaa",
   "metadata": {},
   "source": [
    "**Age Analysis**"
   ]
  },
  {
   "cell_type": "code",
   "execution_count": 48,
   "id": "af977089",
   "metadata": {},
   "outputs": [
    {
     "data": {
      "text/plain": [
       "<AxesSubplot:>"
      ]
     },
     "execution_count": 48,
     "metadata": {},
     "output_type": "execute_result"
    },
    {
     "data": {
      "image/png": "[encoded data removed]",
      "text/plain": [
       "<Figure size 432x288 with 1 Axes>"
      ]
     },
     "metadata": {
      "needs_background": "light"
     },
     "output_type": "display_data"
    }
   ],
   "source": [
    "#Age's distribution\n",
    "df['Age'].hist()"
   ]
  },
  {
   "cell_type": "code",
   "execution_count": 49,
   "id": "6dc78c9a",
   "metadata": {},
   "outputs": [
    {
     "data": {
      "text/plain": [
       "<AxesSubplot:>"
      ]
     },
     "execution_count": 49,
     "metadata": {},
     "output_type": "execute_result"
    },
    {
     "data": {
      "image/png": "[encoded data removed]",
      "text/plain": [
       "<Figure size 432x288 with 1 Axes>"
      ]
     },
     "metadata": {
      "needs_background": "light"
     },
     "output_type": "display_data"
    }
   ],
   "source": [
    "# Age's distribution of those who bought it\n",
    "df[(df[\"Purchased\"]== 1)][\"Age\"].hist()"
   ]
  },
  {
   "cell_type": "markdown",
   "id": "7260c1be",
   "metadata": {},
   "source": [
    "Most purchases come from the oldest people, mostly around 45yo to 60yo"
   ]
  },
  {
   "cell_type": "code",
   "execution_count": 50,
   "id": "20c630be",
   "metadata": {},
   "outputs": [
    {
     "data": {
      "text/plain": [
       "Gender\n",
       "Female    38.0\n",
       "Male      37.0\n",
       "Name: Age, dtype: float64"
      ]
     },
     "execution_count": 50,
     "metadata": {},
     "output_type": "execute_result"
    }
   ],
   "source": [
    "df['Age'].groupby(df['Gender']).mean().round() "
   ]
  },
  {
   "cell_type": "markdown",
   "id": "5e8e4968",
   "metadata": {},
   "source": [
    "Average age from men and women has no big difference"
   ]
  },
  {
   "cell_type": "code",
   "execution_count": 51,
   "id": "df6f339c",
   "metadata": {},
   "outputs": [
    {
     "data": {
      "text/plain": [
       "<AxesSubplot:xlabel='Age'>"
      ]
     },
     "execution_count": 51,
     "metadata": {},
     "output_type": "execute_result"
    },
    {
     "data": {
      "image/png": "[encoded data removed]",
      "text/plain": [
       "<Figure size 432x288 with 1 Axes>"
      ]
     },
     "metadata": {
      "needs_background": "light"
     },
     "output_type": "display_data"
    }
   ],
   "source": [
    "df['EstimatedSalary'].groupby(df['Age']).mean().round().plot()"
   ]
  },
  {
   "cell_type": "markdown",
   "id": "2660414c",
   "metadata": {},
   "source": [
    "Highest salaries are for older people, comparing with the age's distribution for those who bought it, it is very similar. So the Salary is probably an important info."
   ]
  },
  {
   "cell_type": "markdown",
   "id": "3a3dffd4",
   "metadata": {},
   "source": [
    "**Gender Analysis**"
   ]
  },
  {
   "cell_type": "code",
   "execution_count": 52,
   "id": "6acf70c8",
   "metadata": {},
   "outputs": [
    {
     "data": {
      "text/plain": [
       "<AxesSubplot:ylabel='Gender'>"
      ]
     },
     "execution_count": 52,
     "metadata": {},
     "output_type": "execute_result"
    },
    {
     "data": {
      "image/png": "[encoded data removed]",
      "text/plain": [
       "<Figure size 432x288 with 1 Axes>"
      ]
     },
     "metadata": {},
     "output_type": "display_data"
    }
   ],
   "source": [
    "df['Gender'].value_counts().plot(kind = 'pie')\n",
    "#Almost same quantity of men adn women"
   ]
  },
  {
   "cell_type": "code",
   "execution_count": 53,
   "id": "87f7954b",
   "metadata": {},
   "outputs": [
    {
     "data": {
      "text/plain": [
       "Gender\n",
       "Female    5980.0\n",
       "Male      5637.0\n",
       "Name: EstimatedSalary, dtype: float64"
      ]
     },
     "execution_count": 53,
     "metadata": {},
     "output_type": "execute_result"
    }
   ],
   "source": [
    "df['EstimatedSalary'].groupby(df['Gender']).mean().round()"
   ]
  },
  {
   "cell_type": "markdown",
   "id": "6b6a2597",
   "metadata": {},
   "source": [
    "In general women has higher salaries, but no big difference"
   ]
  },
  {
   "cell_type": "code",
   "execution_count": 54,
   "id": "868f4afe",
   "metadata": {},
   "outputs": [
    {
     "data": {
      "text/plain": [
       "Female    77\n",
       "Male      66\n",
       "Name: Gender, dtype: int64"
      ]
     },
     "execution_count": 54,
     "metadata": {},
     "output_type": "execute_result"
    }
   ],
   "source": [
    "#Quantities of men and women who bought the product\n",
    "df[df['Purchased'] == 1]['Gender'].value_counts()"
   ]
  },
  {
   "cell_type": "markdown",
   "id": "fe46ac76",
   "metadata": {},
   "source": [
    "Women bought more"
   ]
  },
  {
   "cell_type": "code",
   "execution_count": 55,
   "id": "b19c4a67",
   "metadata": {},
   "outputs": [
    {
     "data": {
      "text/plain": [
       "<AxesSubplot:ylabel='Purchased'>"
      ]
     },
     "execution_count": 55,
     "metadata": {},
     "output_type": "execute_result"
    },
    {
     "data": {
      "image/png": "[encoded data removed]",
      "text/plain": [
       "<Figure size 432x288 with 1 Axes>"
      ]
     },
     "metadata": {},
     "output_type": "display_data"
    }
   ],
   "source": [
    "df['Purchased'].value_counts().plot(kind = 'pie')\n",
    "# Most people who visited didn't buy it"
   ]
  },
  {
   "cell_type": "markdown",
   "id": "8c8e14ac",
   "metadata": {},
   "source": [
    "**PREDICTIVE ANALISYS**"
   ]
  },
  {
   "cell_type": "code",
   "execution_count": 57,
   "id": "eda4fb02",
   "metadata": {},
   "outputs": [],
   "source": [
    "# Transform gender in Dummy\n",
    "df= pd.get_dummies(df, columns= [\"Gender\"], drop_first= True)"
   ]
  },
  {
   "cell_type": "code",
   "execution_count": 58,
   "id": "72e11779",
   "metadata": {},
   "outputs": [
    {
     "data": {
      "text/html": [
       "<div>\n",
       "<style scoped>\n",
       "    .dataframe tbody tr th:only-of-type {\n",
       "        vertical-align: middle;\n",
       "    }\n",
       "\n",
       "    .dataframe tbody tr th {\n",
       "        vertical-align: top;\n",
       "    }\n",
       "\n",
       "    .dataframe thead th {\n",
       "        text-align: right;\n",
       "    }\n",
       "</style>\n",
       "<table border=\"1\" class=\"dataframe\">\n",
       "  <thead>\n",
       "    <tr style=\"text-align: right;\">\n",
       "      <th></th>\n",
       "      <th>Age</th>\n",
       "      <th>EstimatedSalary</th>\n",
       "      <th>Purchased</th>\n",
       "      <th>Gender_Male</th>\n",
       "    </tr>\n",
       "  </thead>\n",
       "  <tbody>\n",
       "    <tr>\n",
       "      <th>0</th>\n",
       "      <td>19.0</td>\n",
       "      <td>1583.33</td>\n",
       "      <td>0</td>\n",
       "      <td>1</td>\n",
       "    </tr>\n",
       "    <tr>\n",
       "      <th>1</th>\n",
       "      <td>35.0</td>\n",
       "      <td>1666.67</td>\n",
       "      <td>0</td>\n",
       "      <td>1</td>\n",
       "    </tr>\n",
       "    <tr>\n",
       "      <th>2</th>\n",
       "      <td>26.0</td>\n",
       "      <td>3583.33</td>\n",
       "      <td>0</td>\n",
       "      <td>0</td>\n",
       "    </tr>\n",
       "    <tr>\n",
       "      <th>3</th>\n",
       "      <td>27.0</td>\n",
       "      <td>4750.00</td>\n",
       "      <td>0</td>\n",
       "      <td>0</td>\n",
       "    </tr>\n",
       "    <tr>\n",
       "      <th>4</th>\n",
       "      <td>19.0</td>\n",
       "      <td>6333.33</td>\n",
       "      <td>0</td>\n",
       "      <td>1</td>\n",
       "    </tr>\n",
       "    <tr>\n",
       "      <th>...</th>\n",
       "      <td>...</td>\n",
       "      <td>...</td>\n",
       "      <td>...</td>\n",
       "      <td>...</td>\n",
       "    </tr>\n",
       "    <tr>\n",
       "      <th>395</th>\n",
       "      <td>46.0</td>\n",
       "      <td>3416.67</td>\n",
       "      <td>1</td>\n",
       "      <td>0</td>\n",
       "    </tr>\n",
       "    <tr>\n",
       "      <th>396</th>\n",
       "      <td>51.0</td>\n",
       "      <td>1916.67</td>\n",
       "      <td>1</td>\n",
       "      <td>1</td>\n",
       "    </tr>\n",
       "    <tr>\n",
       "      <th>397</th>\n",
       "      <td>50.0</td>\n",
       "      <td>1666.67</td>\n",
       "      <td>1</td>\n",
       "      <td>0</td>\n",
       "    </tr>\n",
       "    <tr>\n",
       "      <th>398</th>\n",
       "      <td>36.0</td>\n",
       "      <td>2750.00</td>\n",
       "      <td>0</td>\n",
       "      <td>1</td>\n",
       "    </tr>\n",
       "    <tr>\n",
       "      <th>399</th>\n",
       "      <td>49.0</td>\n",
       "      <td>3000.00</td>\n",
       "      <td>1</td>\n",
       "      <td>0</td>\n",
       "    </tr>\n",
       "  </tbody>\n",
       "</table>\n",
       "<p>400 rows × 4 columns</p>\n",
       "</div>"
      ],
      "text/plain": [
       "      Age  EstimatedSalary  Purchased  Gender_Male\n",
       "0    19.0          1583.33          0            1\n",
       "1    35.0          1666.67          0            1\n",
       "2    26.0          3583.33          0            0\n",
       "3    27.0          4750.00          0            0\n",
       "4    19.0          6333.33          0            1\n",
       "..    ...              ...        ...          ...\n",
       "395  46.0          3416.67          1            0\n",
       "396  51.0          1916.67          1            1\n",
       "397  50.0          1666.67          1            0\n",
       "398  36.0          2750.00          0            1\n",
       "399  49.0          3000.00          1            0\n",
       "\n",
       "[400 rows x 4 columns]"
      ]
     },
     "execution_count": 58,
     "metadata": {},
     "output_type": "execute_result"
    }
   ],
   "source": [
    "df"
   ]
  },
  {
   "cell_type": "code",
   "execution_count": 65,
   "id": "837ad543",
   "metadata": {},
   "outputs": [],
   "source": [
    "X= df.drop(columns= [\"Purchased\"]) #Define features\n",
    "y= df['Purchased'] # Define Target\n",
    "Xtrain, Xtest, ytrain, ytest= train_test_split(X, y, test_size = 0.25) # Separe df on train and test\n",
    "val = RepeatedStratifiedKFold(n_splits = 10, n_repeats = 2) # Kfold for validation"
   ]
  },
  {
   "cell_type": "code",
   "execution_count": 66,
   "id": "7adebd6b",
   "metadata": {},
   "outputs": [],
   "source": [
    "# Put everything on the same scale\n",
    "scaler= MinMaxScaler().fit(Xtrain) \n",
    "Xtrain_normalized= pd.DataFrame(scaler.transform(Xtrain), columns= Xtrain.columns)\n",
    "Xtest_normalized= pd.DataFrame(scaler.transform(Xtest), columns= Xtest.columns)"
   ]
  },
  {
   "cell_type": "code",
   "execution_count": 67,
   "id": "92b49f6d",
   "metadata": {},
   "outputs": [
    {
     "name": "stdout",
     "output_type": "stream",
     "text": [
      "Modelo: Logistic Regression\n",
      "Modelo: Tree (prof = 3)\n",
      "Modelo: Tree (prof = 5)\n",
      "Modelo: Tree (prof = 7)\n",
      "Modelo: 5-NN\n",
      "Modelo: 15-NN\n",
      "Modelo: 25-NN\n",
      "Modelo: Random Forest (tree = 50, prof = 5)\n",
      "Modelo: Random Forest (tree = 50, prof = 7)\n",
      "Modelo: Random Forest (tree = 100, prof = 5)\n",
      "Modelo: Random Forest (tree = 100, prof = 7)\n"
     ]
    }
   ],
   "source": [
    "metrics = ['accuracy', # Correct predicted (+TP, +TN)\n",
    "            'recall', # Detect positive samples (+TP)\n",
    "           'precision', # Not detect as positive something that's negative (-FP)\n",
    "           'balanced_accuracy', #Average recall \n",
    "           'f1' #Precion & recall]  \n",
    "# Trying different models\n",
    "models = [LogisticRegression(),\n",
    "                        DecisionTreeClassifier(max_depth = 3),\n",
    "                        DecisionTreeClassifier(max_depth = 5),\n",
    "                        DecisionTreeClassifier(max_depth = 7),\n",
    "                        KNeighborsClassifier(n_neighbors = 5),\n",
    "                        KNeighborsClassifier(n_neighbors = 15),\n",
    "                        KNeighborsClassifier(n_neighbors = 25),\n",
    "                        RandomForestClassifier(n_estimators=50, max_depth = 5),\n",
    "                        RandomForestClassifier(n_estimators=50, max_depth = 7),\n",
    "                        RandomForestClassifier(n_estimators=100, max_depth = 5),\n",
    "                        RandomForestClassifier(n_estimators=100, max_depth = 7)]\n",
    "\n",
    "models_names = ['Logistic Regression',\n",
    "                        'Tree (prof = 3)',\n",
    "                        'Tree (prof = 5)',\n",
    "                        'Tree (prof = 7)',\n",
    "                        '5-NN',\n",
    "                        '15-NN',\n",
    "                        '25-NN',\n",
    "                        'Random Forest (tree = 50, prof = 5)',\n",
    "                        'Random Forest (tree = 50, prof = 7)',\n",
    "                        'Random Forest (tree = 100, prof = 5)', \n",
    "                        'Random Forest (tree = 100, prof = 7)']\n",
    "\n",
    "resultados0 = {}\n",
    "\n",
    "for i in range(len(models)):\n",
    "\n",
    "    print('Modelo: ' + models_names[i])\n",
    "\n",
    "    accs_vc = cross_validate(models[i], Xtrain, ytrain, cv = val, scoring = metrics)\n",
    "\n",
    "    acc = accs_vc['test_accuracy'].mean()\n",
    "    sen = accs_vc['test_recall'].mean()\n",
    "    vpp = accs_vc['test_precision'].mean()\n",
    "    bac = accs_vc['test_balanced_accuracy'].mean()\n",
    "    f1s = accs_vc['test_f1'].mean()\n",
    "\n",
    "    resultados0[models_names[i]] = [acc, sen, vpp, bac, f1s]\n",
    "    \n",
    "    \n",
    "resultados = pd.DataFrame(resultados0, index = metrics).T"
   ]
  },
  {
   "cell_type": "code",
   "execution_count": 68,
   "id": "64c06527",
   "metadata": {},
   "outputs": [
    {
     "data": {
      "text/html": [
       "<div>\n",
       "<style scoped>\n",
       "    .dataframe tbody tr th:only-of-type {\n",
       "        vertical-align: middle;\n",
       "    }\n",
       "\n",
       "    .dataframe tbody tr th {\n",
       "        vertical-align: top;\n",
       "    }\n",
       "\n",
       "    .dataframe thead th {\n",
       "        text-align: right;\n",
       "    }\n",
       "</style>\n",
       "<table border=\"1\" class=\"dataframe\">\n",
       "  <thead>\n",
       "    <tr style=\"text-align: right;\">\n",
       "      <th></th>\n",
       "      <th>accuracy</th>\n",
       "      <th>recall</th>\n",
       "      <th>precision</th>\n",
       "      <th>balanced_accuracy</th>\n",
       "      <th>f1</th>\n",
       "    </tr>\n",
       "  </thead>\n",
       "  <tbody>\n",
       "    <tr>\n",
       "      <th>Random Forest (tree = 100, prof = 7)</th>\n",
       "      <td>0.903333</td>\n",
       "      <td>0.875909</td>\n",
       "      <td>0.870555</td>\n",
       "      <td>0.897560</td>\n",
       "      <td>0.869240</td>\n",
       "    </tr>\n",
       "    <tr>\n",
       "      <th>Random Forest (tree = 100, prof = 5)</th>\n",
       "      <td>0.903333</td>\n",
       "      <td>0.889545</td>\n",
       "      <td>0.857786</td>\n",
       "      <td>0.900496</td>\n",
       "      <td>0.868719</td>\n",
       "    </tr>\n",
       "    <tr>\n",
       "      <th>Tree (prof = 3)</th>\n",
       "      <td>0.895000</td>\n",
       "      <td>0.908636</td>\n",
       "      <td>0.836288</td>\n",
       "      <td>0.897937</td>\n",
       "      <td>0.864426</td>\n",
       "    </tr>\n",
       "    <tr>\n",
       "      <th>Random Forest (tree = 50, prof = 7)</th>\n",
       "      <td>0.898333</td>\n",
       "      <td>0.880000</td>\n",
       "      <td>0.855137</td>\n",
       "      <td>0.894079</td>\n",
       "      <td>0.861547</td>\n",
       "    </tr>\n",
       "    <tr>\n",
       "      <th>Random Forest (tree = 50, prof = 5)</th>\n",
       "      <td>0.896667</td>\n",
       "      <td>0.867727</td>\n",
       "      <td>0.860942</td>\n",
       "      <td>0.890640</td>\n",
       "      <td>0.858496</td>\n",
       "    </tr>\n",
       "    <tr>\n",
       "      <th>Tree (prof = 5)</th>\n",
       "      <td>0.896667</td>\n",
       "      <td>0.835455</td>\n",
       "      <td>0.880909</td>\n",
       "      <td>0.883911</td>\n",
       "      <td>0.853176</td>\n",
       "    </tr>\n",
       "    <tr>\n",
       "      <th>Tree (prof = 7)</th>\n",
       "      <td>0.893333</td>\n",
       "      <td>0.839545</td>\n",
       "      <td>0.875062</td>\n",
       "      <td>0.881812</td>\n",
       "      <td>0.849555</td>\n",
       "    </tr>\n",
       "    <tr>\n",
       "      <th>Logistic Regression</th>\n",
       "      <td>0.843333</td>\n",
       "      <td>0.711818</td>\n",
       "      <td>0.844484</td>\n",
       "      <td>0.815251</td>\n",
       "      <td>0.765925</td>\n",
       "    </tr>\n",
       "    <tr>\n",
       "      <th>5-NN</th>\n",
       "      <td>0.820000</td>\n",
       "      <td>0.686818</td>\n",
       "      <td>0.803544</td>\n",
       "      <td>0.791172</td>\n",
       "      <td>0.728955</td>\n",
       "    </tr>\n",
       "    <tr>\n",
       "      <th>15-NN</th>\n",
       "      <td>0.796667</td>\n",
       "      <td>0.623182</td>\n",
       "      <td>0.787921</td>\n",
       "      <td>0.759157</td>\n",
       "      <td>0.688334</td>\n",
       "    </tr>\n",
       "    <tr>\n",
       "      <th>25-NN</th>\n",
       "      <td>0.798333</td>\n",
       "      <td>0.590455</td>\n",
       "      <td>0.803220</td>\n",
       "      <td>0.753254</td>\n",
       "      <td>0.666508</td>\n",
       "    </tr>\n",
       "  </tbody>\n",
       "</table>\n",
       "</div>"
      ],
      "text/plain": [
       "                                      accuracy    recall  precision  \\\n",
       "Random Forest (tree = 100, prof = 7)  0.903333  0.875909   0.870555   \n",
       "Random Forest (tree = 100, prof = 5)  0.903333  0.889545   0.857786   \n",
       "Tree (prof = 3)                       0.895000  0.908636   0.836288   \n",
       "Random Forest (tree = 50, prof = 7)   0.898333  0.880000   0.855137   \n",
       "Random Forest (tree = 50, prof = 5)   0.896667  0.867727   0.860942   \n",
       "Tree (prof = 5)                       0.896667  0.835455   0.880909   \n",
       "Tree (prof = 7)                       0.893333  0.839545   0.875062   \n",
       "Logistic Regression                   0.843333  0.711818   0.844484   \n",
       "5-NN                                  0.820000  0.686818   0.803544   \n",
       "15-NN                                 0.796667  0.623182   0.787921   \n",
       "25-NN                                 0.798333  0.590455   0.803220   \n",
       "\n",
       "                                      balanced_accuracy        f1  \n",
       "Random Forest (tree = 100, prof = 7)           0.897560  0.869240  \n",
       "Random Forest (tree = 100, prof = 5)           0.900496  0.868719  \n",
       "Tree (prof = 3)                                0.897937  0.864426  \n",
       "Random Forest (tree = 50, prof = 7)            0.894079  0.861547  \n",
       "Random Forest (tree = 50, prof = 5)            0.890640  0.858496  \n",
       "Tree (prof = 5)                                0.883911  0.853176  \n",
       "Tree (prof = 7)                                0.881812  0.849555  \n",
       "Logistic Regression                            0.815251  0.765925  \n",
       "5-NN                                           0.791172  0.728955  \n",
       "15-NN                                          0.759157  0.688334  \n",
       "25-NN                                          0.753254  0.666508  "
      ]
     },
     "execution_count": 68,
     "metadata": {},
     "output_type": "execute_result"
    }
   ],
   "source": [
    "resultados.sort_values(by = 'f1', ascending = False)"
   ]
  },
  {
   "cell_type": "code",
   "execution_count": null,
   "id": "d81501f6",
   "metadata": {},
   "outputs": [],
   "source": []
  }
 ],
 "metadata": {
  "kernelspec": {
   "display_name": "Python 3 (ipykernel)",
   "language": "python",
   "name": "python3"
  },
  "language_info": {
   "codemirror_mode": {
    "name": "ipython",
    "version": 3
   },
   "file_extension": ".py",
   "mimetype": "text/x-python",
   "name": "python",
   "nbconvert_exporter": "python",
   "pygments_lexer": "ipython3",
   "version": "3.9.13"
  }
 },
 "nbformat": 4,
 "nbformat_minor": 5
}
